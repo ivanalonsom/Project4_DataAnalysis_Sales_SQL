{
 "cells": [
  {
   "cell_type": "code",
   "execution_count": 19,
   "metadata": {},
   "outputs": [
    {
     "data": {
      "text/plain": [
       "{'internalName': 'RUGRATSADVENTURESINGAMELAND',\n",
       " 'title': 'Rugrats: Adventures in Gameland',\n",
       " 'metacriticLink': '/game/rugrats-adventures-in-gameland/',\n",
       " 'dealID': '3ikg18oiPVxNIfntdQ5yXscZ9MrcP89QkGXjTizNAuA%3D',\n",
       " 'storeID': '25',\n",
       " 'gameID': '291141',\n",
       " 'salePrice': '0.00',\n",
       " 'normalPrice': '24.99',\n",
       " 'isOnSale': '1',\n",
       " 'savings': '100.000000',\n",
       " 'metacriticScore': '0',\n",
       " 'steamRatingText': 'Mostly Positive',\n",
       " 'steamRatingPercent': '76',\n",
       " 'steamRatingCount': '13',\n",
       " 'steamAppID': '2633950',\n",
       " 'releaseDate': 1725926400,\n",
       " 'lastChange': 1726155144,\n",
       " 'dealRating': '10.0',\n",
       " 'thumb': 'https://shared.akamai.steamstatic.com/store_item_assets/steam/apps/2633950/capsule_sm_120.jpg?t=1725985269'}"
      ]
     },
     "execution_count": 19,
     "metadata": {},
     "output_type": "execute_result"
    }
   ],
   "source": [
    "import requests\n",
    "\n",
    "    # params = {\n",
    "    #     'sortBy' : 'Recent'\n",
    "    # }\n",
    "\n",
    "response = requests.get(\"https://www.cheapshark.com/api/1.0/deals\")\n",
    "    # response = requests.get(url, params=params)   We could use this line instead of the previous one if we wanted to sort by the most recently added games.\n",
    "\n",
    "if response.status_code == 200:\n",
    "        dict_deals = response.json()\n",
    "else:\n",
    "        print(response.status_code)"
   ]
  },
  {
   "cell_type": "code",
   "execution_count": 29,
   "metadata": {},
   "outputs": [
    {
     "data": {
      "text/plain": [
       "dict_keys(['internalName', 'title', 'metacriticLink', 'dealID', 'storeID', 'gameID', 'salePrice', 'normalPrice', 'isOnSale', 'savings', 'metacriticScore', 'steamRatingText', 'steamRatingPercent', 'steamRatingCount', 'steamAppID', 'releaseDate', 'lastChange', 'dealRating', 'thumb'])"
      ]
     },
     "execution_count": 29,
     "metadata": {},
     "output_type": "execute_result"
    }
   ],
   "source": [
    "dict_deals[0].keys()"
   ]
  },
  {
   "cell_type": "code",
   "execution_count": 40,
   "metadata": {},
   "outputs": [],
   "source": [
    "import os\n",
    "from dotenv import load_dotenv\n",
    "import requests\n",
    "import time\n",
    "\n",
    "    # Tu clave API de RAWG\n",
    "\n",
    "api_key = os.getenv(\"api_key\")\n",
    "\n",
    "    # URL de la API de RAWG\n",
    "base_url = 'https://api.rawg.io/api'\n",
    "\n",
    "    # Parámetros de la solicitud (ejemplo: buscar juegos con la palabra \"cyberpunk\")\n",
    "params = {\n",
    "        'key': api_key,\n",
    "        'search': 'Super Crazy Rhythm Castle',\n",
    "       # 'search_exact' : True\n",
    "    }\n",
    "    \n",
    "time.sleep(0.5)\n",
    "\n",
    "    # Hacer la solicitud a la API\n",
    "response = requests.get(f'{base_url}/games', params=params)\n",
    "\n",
    "    # Verificar si la solicitud fue exitosa\n",
    "if response.status_code == 200:\n",
    "        # Obtener los datos en formato JSON\n",
    "        data = response.json()\n",
    "\n",
    "\n"
   ]
  },
  {
   "cell_type": "code",
   "execution_count": 41,
   "metadata": {},
   "outputs": [
    {
     "data": {
      "text/plain": [
       "'Indie'"
      ]
     },
     "execution_count": 41,
     "metadata": {},
     "output_type": "execute_result"
    }
   ],
   "source": [
    "data[\"results\"][0][\"genres\"][0][\"name\"]"
   ]
  },
  {
   "cell_type": "code",
   "execution_count": null,
   "metadata": {},
   "outputs": [],
   "source": []
  }
 ],
 "metadata": {
  "kernelspec": {
   "display_name": "base",
   "language": "python",
   "name": "python3"
  },
  "language_info": {
   "codemirror_mode": {
    "name": "ipython",
    "version": 3
   },
   "file_extension": ".py",
   "mimetype": "text/x-python",
   "name": "python",
   "nbconvert_exporter": "python",
   "pygments_lexer": "ipython3",
   "version": "3.12.4"
  }
 },
 "nbformat": 4,
 "nbformat_minor": 2
}
