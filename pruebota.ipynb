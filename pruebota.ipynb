{
 "cells": [
  {
   "cell_type": "code",
   "execution_count": 2,
   "metadata": {},
   "outputs": [],
   "source": [
    "import requests\n",
    "\n",
    "    # params = {\n",
    "    #     'sortBy' : 'Recent'\n",
    "    # }\n",
    "\n",
    "response = requests.get(\"https://www.cheapshark.com/api/1.0/deals\")\n",
    "    # response = requests.get(url, params=params)   We could use this line instead of the previous one if we wanted to sort by the most recently added games.\n",
    "\n",
    "if response.status_code == 200:\n",
    "        dict_deals = response.json()\n",
    "else:\n",
    "        print(response.status_code)"
   ]
  },
  {
   "cell_type": "code",
   "execution_count": 3,
   "metadata": {},
   "outputs": [
    {
     "data": {
      "text/plain": [
       "'291141'"
      ]
     },
     "execution_count": 3,
     "metadata": {},
     "output_type": "execute_result"
    }
   ],
   "source": [
    "dict_deals[0][\"gameID\"]"
   ]
  },
  {
   "cell_type": "code",
   "execution_count": 4,
   "metadata": {},
   "outputs": [],
   "source": [
    "import os\n",
    "from dotenv import load_dotenv\n",
    "import requests\n",
    "import time\n",
    "\n",
    "    # Tu clave API de RAWG\n",
    "\n",
    "api_key = os.getenv(\"api_key\")\n",
    "\n",
    "    # URL de la API de RAWG\n",
    "base_url = 'https://api.rawg.io/api'\n",
    "\n",
    "    # Parámetros de la solicitud (ejemplo: buscar juegos con la palabra \"cyberpunk\")\n",
    "params = {\n",
    "        'key': api_key,\n",
    "        'search': 'Super Crazy Rhythm Castle',\n",
    "       # 'search_exact' : True\n",
    "    }\n",
    "    \n",
    "time.sleep(0.5)\n",
    "\n",
    "    # Hacer la solicitud a la API\n",
    "response = requests.get(f'{base_url}/games', params=params)\n",
    "\n",
    "    # Verificar si la solicitud fue exitosa\n",
    "if response.status_code == 200:\n",
    "        # Obtener los datos en formato JSON\n",
    "        data = response.json()\n",
    "\n",
    "\n"
   ]
  },
  {
   "cell_type": "code",
   "execution_count": 5,
   "metadata": {},
   "outputs": [
    {
     "data": {
      "text/plain": [
       "'Indie'"
      ]
     },
     "execution_count": 5,
     "metadata": {},
     "output_type": "execute_result"
    }
   ],
   "source": [
    "data[\"results\"][0][\"genres\"][0][\"name\"]"
   ]
  },
  {
   "cell_type": "code",
   "execution_count": 73,
   "metadata": {},
   "outputs": [],
   "source": [
    "import pandas as pd\n",
    "\n",
    "df_genresNo = pd.read_csv('data/genres_register.csv')"
   ]
  },
  {
   "cell_type": "code",
   "execution_count": 69,
   "metadata": {},
   "outputs": [],
   "source": [
    "data_desc = {'description' : ['Videojuegos creados por pequeños estudios independientes', 'Juegos donde se salta y navega entre plataformas', 'Juegos centrados en la exploración y resolución de puzzles', 'Enfocados en la velocidad y combates intensos', 'Carreras de vehículos en diversos entornos y estilos', 'Combates cuerpo a cuerpo entre personajes', 'Planificación y control táctico para alcanzar objetivos', 'Recrean actividades de la vida real o sistemas complejos', 'Basados en deportes tradicionales como fútbol o baloncesto', 'Juegos rápidos y simples con foco en la habilidad', 'Desarrollo de personajes y narrativa en mundos interactivos', 'Juegos fáciles de aprender, diseñados para el entretenimiento rápido', 'Enfocados en el combate armado desde diversas perspectivas']}"
   ]
  },
  {
   "cell_type": "code",
   "execution_count": 74,
   "metadata": {},
   "outputs": [
    {
     "data": {
      "text/html": [
       "<div>\n",
       "<style scoped>\n",
       "    .dataframe tbody tr th:only-of-type {\n",
       "        vertical-align: middle;\n",
       "    }\n",
       "\n",
       "    .dataframe tbody tr th {\n",
       "        vertical-align: top;\n",
       "    }\n",
       "\n",
       "    .dataframe thead th {\n",
       "        text-align: right;\n",
       "    }\n",
       "</style>\n",
       "<table border=\"1\" class=\"dataframe\">\n",
       "  <thead>\n",
       "    <tr style=\"text-align: right;\">\n",
       "      <th></th>\n",
       "      <th>genre_name</th>\n",
       "      <th>description</th>\n",
       "    </tr>\n",
       "  </thead>\n",
       "  <tbody>\n",
       "    <tr>\n",
       "      <th>0</th>\n",
       "      <td>Indie</td>\n",
       "      <td>NaN</td>\n",
       "    </tr>\n",
       "    <tr>\n",
       "      <th>1</th>\n",
       "      <td>Platformer</td>\n",
       "      <td>NaN</td>\n",
       "    </tr>\n",
       "    <tr>\n",
       "      <th>2</th>\n",
       "      <td>Adventure</td>\n",
       "      <td>NaN</td>\n",
       "    </tr>\n",
       "    <tr>\n",
       "      <th>3</th>\n",
       "      <td>Action</td>\n",
       "      <td>NaN</td>\n",
       "    </tr>\n",
       "    <tr>\n",
       "      <th>4</th>\n",
       "      <td>Racing</td>\n",
       "      <td>NaN</td>\n",
       "    </tr>\n",
       "    <tr>\n",
       "      <th>5</th>\n",
       "      <td>Fighting</td>\n",
       "      <td>NaN</td>\n",
       "    </tr>\n",
       "    <tr>\n",
       "      <th>6</th>\n",
       "      <td>Strategy</td>\n",
       "      <td>NaN</td>\n",
       "    </tr>\n",
       "    <tr>\n",
       "      <th>7</th>\n",
       "      <td>Simulation</td>\n",
       "      <td>NaN</td>\n",
       "    </tr>\n",
       "    <tr>\n",
       "      <th>8</th>\n",
       "      <td>Sports</td>\n",
       "      <td>NaN</td>\n",
       "    </tr>\n",
       "    <tr>\n",
       "      <th>9</th>\n",
       "      <td>Arcade</td>\n",
       "      <td>NaN</td>\n",
       "    </tr>\n",
       "    <tr>\n",
       "      <th>10</th>\n",
       "      <td>RPG</td>\n",
       "      <td>NaN</td>\n",
       "    </tr>\n",
       "    <tr>\n",
       "      <th>11</th>\n",
       "      <td>Casual</td>\n",
       "      <td>NaN</td>\n",
       "    </tr>\n",
       "    <tr>\n",
       "      <th>12</th>\n",
       "      <td>Shooter</td>\n",
       "      <td>NaN</td>\n",
       "    </tr>\n",
       "  </tbody>\n",
       "</table>\n",
       "</div>"
      ],
      "text/plain": [
       "    genre_name  description\n",
       "0        Indie          NaN\n",
       "1   Platformer          NaN\n",
       "2    Adventure          NaN\n",
       "3       Action          NaN\n",
       "4       Racing          NaN\n",
       "5     Fighting          NaN\n",
       "6     Strategy          NaN\n",
       "7   Simulation          NaN\n",
       "8       Sports          NaN\n",
       "9       Arcade          NaN\n",
       "10         RPG          NaN\n",
       "11      Casual          NaN\n",
       "12     Shooter          NaN"
      ]
     },
     "execution_count": 74,
     "metadata": {},
     "output_type": "execute_result"
    }
   ],
   "source": [
    "df_desc = pd.DataFrame(data_desc)\n",
    "df_desc"
   ]
  },
  {
   "cell_type": "code",
   "execution_count": 76,
   "metadata": {},
   "outputs": [],
   "source": [
    "df_joint = pd.concat([df_genresNo['genre_name'], df_desc], axis=1)\n",
    "\n"
   ]
  },
  {
   "cell_type": "code",
   "execution_count": 59,
   "metadata": {},
   "outputs": [],
   "source": [
    "df_saver.drop(['Unnamed: 0'], axis=1, inplace=True)"
   ]
  },
  {
   "cell_type": "code",
   "execution_count": 61,
   "metadata": {},
   "outputs": [],
   "source": [
    "df_joint.to_csv('data/genres_register.csv', index=False)"
   ]
  },
  {
   "cell_type": "code",
   "execution_count": 77,
   "metadata": {},
   "outputs": [
    {
     "data": {
      "text/html": [
       "<div>\n",
       "<style scoped>\n",
       "    .dataframe tbody tr th:only-of-type {\n",
       "        vertical-align: middle;\n",
       "    }\n",
       "\n",
       "    .dataframe tbody tr th {\n",
       "        vertical-align: top;\n",
       "    }\n",
       "\n",
       "    .dataframe thead th {\n",
       "        text-align: right;\n",
       "    }\n",
       "</style>\n",
       "<table border=\"1\" class=\"dataframe\">\n",
       "  <thead>\n",
       "    <tr style=\"text-align: right;\">\n",
       "      <th></th>\n",
       "      <th>genre_name</th>\n",
       "      <th>description</th>\n",
       "    </tr>\n",
       "  </thead>\n",
       "  <tbody>\n",
       "    <tr>\n",
       "      <th>0</th>\n",
       "      <td>Indie</td>\n",
       "      <td>Videojuegos creados por pequeños estudios inde...</td>\n",
       "    </tr>\n",
       "    <tr>\n",
       "      <th>1</th>\n",
       "      <td>Platformer</td>\n",
       "      <td>Juegos donde se salta y navega entre plataformas</td>\n",
       "    </tr>\n",
       "    <tr>\n",
       "      <th>2</th>\n",
       "      <td>Adventure</td>\n",
       "      <td>Juegos centrados en la exploración y resolució...</td>\n",
       "    </tr>\n",
       "    <tr>\n",
       "      <th>3</th>\n",
       "      <td>Action</td>\n",
       "      <td>Enfocados en la velocidad y combates intensos</td>\n",
       "    </tr>\n",
       "    <tr>\n",
       "      <th>4</th>\n",
       "      <td>Racing</td>\n",
       "      <td>Carreras de vehículos en diversos entornos y e...</td>\n",
       "    </tr>\n",
       "    <tr>\n",
       "      <th>5</th>\n",
       "      <td>Fighting</td>\n",
       "      <td>Combates cuerpo a cuerpo entre personajes</td>\n",
       "    </tr>\n",
       "    <tr>\n",
       "      <th>6</th>\n",
       "      <td>Strategy</td>\n",
       "      <td>Planificación y control táctico para alcanzar ...</td>\n",
       "    </tr>\n",
       "    <tr>\n",
       "      <th>7</th>\n",
       "      <td>Simulation</td>\n",
       "      <td>Recrean actividades de la vida real o sistemas...</td>\n",
       "    </tr>\n",
       "    <tr>\n",
       "      <th>8</th>\n",
       "      <td>Sports</td>\n",
       "      <td>Basados en deportes tradicionales como fútbol ...</td>\n",
       "    </tr>\n",
       "    <tr>\n",
       "      <th>9</th>\n",
       "      <td>Arcade</td>\n",
       "      <td>Juegos rápidos y simples con foco en la habilidad</td>\n",
       "    </tr>\n",
       "    <tr>\n",
       "      <th>10</th>\n",
       "      <td>RPG</td>\n",
       "      <td>Desarrollo de personajes y narrativa en mundos...</td>\n",
       "    </tr>\n",
       "    <tr>\n",
       "      <th>11</th>\n",
       "      <td>Casual</td>\n",
       "      <td>Juegos fáciles de aprender, diseñados para el ...</td>\n",
       "    </tr>\n",
       "    <tr>\n",
       "      <th>12</th>\n",
       "      <td>Shooter</td>\n",
       "      <td>Enfocados en el combate armado desde diversas ...</td>\n",
       "    </tr>\n",
       "  </tbody>\n",
       "</table>\n",
       "</div>"
      ],
      "text/plain": [
       "    genre_name                                        description\n",
       "0        Indie  Videojuegos creados por pequeños estudios inde...\n",
       "1   Platformer   Juegos donde se salta y navega entre plataformas\n",
       "2    Adventure  Juegos centrados en la exploración y resolució...\n",
       "3       Action      Enfocados en la velocidad y combates intensos\n",
       "4       Racing  Carreras de vehículos en diversos entornos y e...\n",
       "5     Fighting          Combates cuerpo a cuerpo entre personajes\n",
       "6     Strategy  Planificación y control táctico para alcanzar ...\n",
       "7   Simulation  Recrean actividades de la vida real o sistemas...\n",
       "8       Sports  Basados en deportes tradicionales como fútbol ...\n",
       "9       Arcade  Juegos rápidos y simples con foco en la habilidad\n",
       "10         RPG  Desarrollo de personajes y narrativa en mundos...\n",
       "11      Casual  Juegos fáciles de aprender, diseñados para el ...\n",
       "12     Shooter  Enfocados en el combate armado desde diversas ..."
      ]
     },
     "execution_count": 77,
     "metadata": {},
     "output_type": "execute_result"
    }
   ],
   "source": [
    "df_joint"
   ]
  },
  {
   "cell_type": "code",
   "execution_count": null,
   "metadata": {},
   "outputs": [],
   "source": []
  }
 ],
 "metadata": {
  "kernelspec": {
   "display_name": "base",
   "language": "python",
   "name": "python3"
  },
  "language_info": {
   "codemirror_mode": {
    "name": "ipython",
    "version": 3
   },
   "file_extension": ".py",
   "mimetype": "text/x-python",
   "name": "python",
   "nbconvert_exporter": "python",
   "pygments_lexer": "ipython3",
   "version": "3.12.4"
  }
 },
 "nbformat": 4,
 "nbformat_minor": 2
}
