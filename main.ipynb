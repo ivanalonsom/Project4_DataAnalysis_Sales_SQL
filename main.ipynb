{
 "cells": [
  {
   "cell_type": "code",
   "execution_count": 4,
   "metadata": {},
   "outputs": [],
   "source": [
    "%load_ext autoreload\n",
    "%autoreload 2"
   ]
  },
  {
   "cell_type": "code",
   "execution_count": 5,
   "metadata": {},
   "outputs": [],
   "source": [
    "from functions import main, save_df, import_to_sql\n",
    "from graphics import *\n",
    "\n",
    "df_all = main(\"https://www.cheapshark.com/api/1.0/deals\")"
   ]
  },
  {
   "cell_type": "code",
   "execution_count": 6,
   "metadata": {},
   "outputs": [],
   "source": [
    "df_games = df_all[['gameID', 'title', 'release_date', 'scores']].copy()\n",
    "df_games.drop_duplicates(subset=['gameID'], inplace=True)\n",
    "df_games = df_games.reset_index(drop=True)\n",
    "save_df(df_games, \"games\")"
   ]
  },
  {
   "cell_type": "code",
   "execution_count": 7,
   "metadata": {},
   "outputs": [],
   "source": [
    "df_shops = df_all[['store_id', 'store_name']].copy()\n",
    "df_shops.drop_duplicates(subset=['store_id'], inplace=True)\n",
    "df_shops.reset_index(drop=True)\n",
    "save_df(df_shops, \"shops\")"
   ]
  },
  {
   "cell_type": "code",
   "execution_count": 8,
   "metadata": {},
   "outputs": [],
   "source": [
    "df_gameunits = df_all[['gameID', 'store_id', 'original_price', 'discount_price']].copy()\n",
    "save_df(df_gameunits, \"units\")"
   ]
  },
  {
   "cell_type": "code",
   "execution_count": 9,
   "metadata": {},
   "outputs": [],
   "source": [
    "df_games_genres = df_all[['gameID', 'genre_name']].copy().explode(\"genre_name\")\n",
    "\n",
    "df_games_genres.insert(0, 'id', range(1, len(df_games_genres) + 1))\n",
    "\n",
    "\n",
    "save_df(df_games_genres, \"games_genres\")"
   ]
  },
  {
   "cell_type": "code",
   "execution_count": 10,
   "metadata": {},
   "outputs": [],
   "source": [
    "df_genres = df_all[['genre_name']].copy().explode('genre_name').drop_duplicates().reset_index(drop=True)\n",
    "df_genres = df_genres[df_genres['genre_name'].notna()]\n",
    "\n",
    "df_genres['description'] = 'null'\n",
    "\n",
    "save_df(df_genres, \"genres\")"
   ]
  },
  {
   "cell_type": "code",
   "execution_count": 11,
   "metadata": {},
   "outputs": [],
   "source": [
    "# SEND TO SQL\n",
    "\n",
    "import_to_sql(df_games, 'games')\n",
    "\n",
    "import_to_sql(df_genres, 'genres')\n",
    "\n",
    "import_to_sql(df_games_genres, 'games_genres')\n",
    "\n",
    "import_to_sql(df_shops, 'shops')\n",
    "\n",
    "import_to_sql(df_gameunits, 'units')\n"
   ]
  },
  {
   "cell_type": "code",
   "execution_count": 18,
   "metadata": {},
   "outputs": [],
   "source": [
    "# RECEIVE FROM SQL\n",
    "\n",
    "import pandas as pd\n",
    "import pymysql\n",
    "from sqlalchemy import create_engine\n",
    "import os\n",
    "import getpass  # Para obtener la contraseña sin mostrar la entrada\n",
    "\n",
    "# Obtener la contraseña de forma segura\n",
    "password = getpass.getpass()\n",
    "\n",
    "# Configuración de la base de datos y la conexión\n",
    "bd = os.getenv('bbdd_name')\n",
    "connection_string = 'mysql+pymysql://root:' + password + '@localhost/' + bd\n",
    "engine = create_engine(connection_string)\n",
    "\n",
    "# Leer la consulta SQL en un DataFrame\n",
    "consulta = \"SELECT * FROM games WHERE gameID = 170045\" #AQUI PEGAR LA QUERY SIN ;  EN UN SOLO BLOQUE \n",
    "df_query = pd.read_sql(consulta, con=engine)"
   ]
  },
  {
   "cell_type": "code",
   "execution_count": 13,
   "metadata": {},
   "outputs": [],
   "source": [
    "#average_disc_vs_shop_bar(deals_df)\n",
    "# min_max_disc_vs_shop_bar(deals_df)\n",
    "# linear_graph_discounts_vs_punct_linear(deals_df)\n",
    "# genre_vs_mean_discount_bar(unroll_list_from_dfcolumn(deals_df, 'genre'))\n",
    "# circular_pie_chart_genres(unroll_list_from_dfcolumn(deals_df, 'genre'))\n",
    "# linear_graph_discounts_vs_releasedate(clean_df_releases(deals_df))"
   ]
  },
  {
   "cell_type": "code",
   "execution_count": 14,
   "metadata": {},
   "outputs": [],
   "source": [
    "# streamlit run app.py"
   ]
  }
 ],
 "metadata": {
  "kernelspec": {
   "display_name": "base",
   "language": "python",
   "name": "python3"
  },
  "language_info": {
   "codemirror_mode": {
    "name": "ipython",
    "version": 3
   },
   "file_extension": ".py",
   "mimetype": "text/x-python",
   "name": "python",
   "nbconvert_exporter": "python",
   "pygments_lexer": "ipython3",
   "version": "3.12.4"
  }
 },
 "nbformat": 4,
 "nbformat_minor": 2
}
