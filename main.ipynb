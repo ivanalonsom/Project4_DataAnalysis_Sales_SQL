{
 "cells": [
  {
   "cell_type": "code",
   "execution_count": null,
   "metadata": {},
   "outputs": [],
   "source": [
    "%load_ext autoreload\n",
    "%autoreload 2"
   ]
  },
  {
   "cell_type": "code",
   "execution_count": 17,
   "metadata": {},
   "outputs": [],
   "source": [
    "from functions import main, save_df\n",
    "from graphics import *\n",
    "\n",
    "df_all = main(\"https://www.cheapshark.com/api/1.0/deals\")"
   ]
  },
  {
   "cell_type": "code",
   "execution_count": null,
   "metadata": {},
   "outputs": [],
   "source": [
    "df_all.head()"
   ]
  },
  {
   "cell_type": "code",
   "execution_count": null,
   "metadata": {},
   "outputs": [],
   "source": [
    "df_games = df_all[['gameID', 'title', 'release_date', 'scores']]\n",
    "save_df(df_games, \"games\")"
   ]
  },
  {
   "cell_type": "code",
   "execution_count": null,
   "metadata": {},
   "outputs": [],
   "source": [
    "df_shops = df_all[['store_id', 'store_name']]\n",
    "save_df(df_shops, \"shops\")"
   ]
  },
  {
   "cell_type": "code",
   "execution_count": null,
   "metadata": {},
   "outputs": [],
   "source": [
    "df_gameunits = df_all[['gameID', 'store_id', 'og_price', 'dc_price']]\n",
    "save_df(df_gameunits, \"units\")"
   ]
  },
  {
   "cell_type": "code",
   "execution_count": null,
   "metadata": {},
   "outputs": [],
   "source": [
    "df_games_genres = df_all[['gameID', 'genre']]\n",
    "save_df(df_games_genres, \"games_genres\")"
   ]
  },
  {
   "cell_type": "code",
   "execution_count": null,
   "metadata": {},
   "outputs": [],
   "source": [
    "df_genres = df_all[['genre']]\n",
    "save_df(df_genres, \"genres\")"
   ]
  },
  {
   "cell_type": "code",
   "execution_count": 24,
   "metadata": {},
   "outputs": [],
   "source": [
    "#average_disc_vs_shop_bar(deals_df)\n",
    "# min_max_disc_vs_shop_bar(deals_df)\n",
    "# linear_graph_discounts_vs_punct_linear(deals_df)\n",
    "# genre_vs_mean_discount_bar(unroll_list_from_dfcolumn(deals_df, 'genre'))\n",
    "# circular_pie_chart_genres(unroll_list_from_dfcolumn(deals_df, 'genre'))\n",
    "# linear_graph_discounts_vs_releasedate(clean_df_releases(deals_df))"
   ]
  }
 ],
 "metadata": {
  "kernelspec": {
   "display_name": "base",
   "language": "python",
   "name": "python3"
  },
  "language_info": {
   "codemirror_mode": {
    "name": "ipython",
    "version": 3
   },
   "file_extension": ".py",
   "mimetype": "text/x-python",
   "name": "python",
   "nbconvert_exporter": "python",
   "pygments_lexer": "ipython3",
   "version": "3.12.4"
  }
 },
 "nbformat": 4,
 "nbformat_minor": 2
}
